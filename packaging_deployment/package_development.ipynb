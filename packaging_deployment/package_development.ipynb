{
 "cells": [
  {
   "cell_type": "markdown",
   "metadata": {},
   "source": [
    "![NASA](http://www.nasa.gov/sites/all/themes/custom/nasatwo/images/nasa-logo.svg)\n",
    "\n",
    "<center>\n",
    "<h1><font size=\"+3\">GSFC Python Bootcamp</font></h1>\n",
    "</center>\n",
    "\n",
    "---\n",
    "\n",
    "<CENTER>\n",
    "<H1 style=\"color:red\">\n",
    "Package Development\n",
    "</H1>\n",
    "</CENTER>"
   ]
  },
  {
   "cell_type": "code",
   "execution_count": null,
   "metadata": {},
   "outputs": [],
   "source": [
    "from __future__ import print_function"
   ]
  },
  {
   "cell_type": "code",
   "execution_count": null,
   "metadata": {
    "slideshow": {
     "slide_type": "skip"
    }
   },
   "outputs": [],
   "source": [
    "from IPython.core.interactiveshell import InteractiveShell\n",
    "InteractiveShell.ast_node_interactivity = \"all\""
   ]
  },
  {
   "cell_type": "markdown",
   "metadata": {},
   "source": [
    "# <font color=\"red\"> Useful References </font>\n",
    "* <A HREF=\"https://realpython.com/python-modules-packages/\"> Python Modules and Packages – An Introduction </A>\n",
    "* <A HREF=\"https://python-packaging.readthedocs.io/en/latest/minimal.html\"> How To Package Your Python Code</A>\n",
    "* <A HREF=\"https://packaging.python.org/tutorials/packaging-projects/\"> Packaging Python Projects </A>"
   ]
  },
  {
   "cell_type": "markdown",
   "metadata": {},
   "source": [
    "# <font color=\"red\"> Create a Module </font>"
   ]
  },
  {
   "cell_type": "markdown",
   "metadata": {
    "slideshow": {
     "slide_type": "skip"
    }
   },
   "source": [
    "A __module__ is a Python file (extension .py) that contains Python definitions, functions, classes and statements.\n",
    "\n",
    "We use the __import__ statement to gain access to all attributes and functions present in the __module__.\n",
    "\n",
    "Access to functions and attributes is accomplished using the __module.method__ syntax."
   ]
  },
  {
   "cell_type": "markdown",
   "metadata": {
    "slideshow": {
     "slide_type": "slide"
    }
   },
   "source": [
    "__modules__:\n",
    "  \n",
    "+ Logically organize Python code\n",
    "+ Group related code into a file - easier to understand and use"
   ]
  },
  {
   "cell_type": "code",
   "execution_count": null,
   "metadata": {
    "slideshow": {
     "slide_type": "slide"
    }
   },
   "outputs": [],
   "source": [
    "try:\n",
    "    !cat area.py\n",
    "except:\n",
    "    with open('area.py', 'r') as f:\n",
    "        contents = f.read()\n",
    "        print(contents)"
   ]
  },
  {
   "cell_type": "code",
   "execution_count": null,
   "metadata": {},
   "outputs": [],
   "source": [
    "import area\n",
    "print (dir(area))"
   ]
  },
  {
   "cell_type": "code",
   "execution_count": null,
   "metadata": {
    "slideshow": {
     "slide_type": "slide"
    }
   },
   "outputs": [],
   "source": [
    "print (area.circle_area(1))\n",
    "print (area.square_area(1))\n",
    "print (area.rectangle_area(2, 3))"
   ]
  },
  {
   "cell_type": "code",
   "execution_count": null,
   "metadata": {
    "slideshow": {
     "slide_type": "fragment"
    }
   },
   "outputs": [],
   "source": [
    "from area import circle_area # Careful when using this\n",
    "print (circle_area(1))"
   ]
  },
  {
   "cell_type": "code",
   "execution_count": null,
   "metadata": {
    "slideshow": {
     "slide_type": "fragment"
    }
   },
   "outputs": [],
   "source": [
    "from area import *  # Discouraged"
   ]
  },
  {
   "cell_type": "markdown",
   "metadata": {
    "slideshow": {
     "slide_type": "slide"
    }
   },
   "source": [
    "When python runs a module it sets up a bunch of variables - one of then is \\_\\_name\\_\\_. \n",
    "\n",
    "\\_\\_name\\_\\_ is set equal to \"\\_\\_main\\_\\_\" when the module is run as a standalone file\n",
    "\n",
    "\\_\\_name\\_\\_ is set to its module name when the module is imported"
   ]
  },
  {
   "cell_type": "markdown",
   "metadata": {
    "slideshow": {
     "slide_type": "slide"
    }
   },
   "source": [
    "When you see the following line in a module:\n",
    "    \n",
    "```python\n",
    "if __name__ == '__main__':\n",
    "    # Python code\n",
    "```\n",
    "\n",
    "it means that we want to be able to test and run the module separately other than just importing it.\n",
    "        "
   ]
  },
  {
   "cell_type": "code",
   "execution_count": null,
   "metadata": {
    "slideshow": {
     "slide_type": "skip"
    }
   },
   "outputs": [],
   "source": [
    "!python area.py"
   ]
  },
  {
   "cell_type": "markdown",
   "metadata": {},
   "source": [
    "# <font color=\"red\"> Create a Package</font>"
   ]
  },
  {
   "cell_type": "markdown",
   "metadata": {
    "slideshow": {
     "slide_type": "slide"
    }
   },
   "source": [
    "A __package__ is a directory of python modules."
   ]
  },
  {
   "cell_type": "markdown",
   "metadata": {
    "slideshow": {
     "slide_type": "fragment"
    }
   },
   "source": [
    "__packages__:\n",
    "\n",
    "+ Structure namespace using \"dotted module names\"\n",
    "+ Can avoid module name collisions\n",
    "+ package name should be in lowercase and underscore-separated or no word separators at all"
   ]
  },
  {
   "cell_type": "markdown",
   "metadata": {},
   "source": [
    "## Directory Structure of a Package"
   ]
  },
  {
   "cell_type": "markdown",
   "metadata": {
    "slideshow": {
     "slide_type": "fragment"
    }
   },
   "source": [
    "```\n",
    "package_name/\n",
    "    package_name/\n",
    "        __init__.py\n",
    "        setup.py\n",
    "        LICENSE\n",
    "        README.md\n",
    "        subpackage_1/\n",
    "            __init__.py\n",
    "            submodule1_1.py\n",
    "            submodule1_2.py\n",
    "        subpackage_2/\n",
    "            __init__.py\n",
    "            submodule2_1.py\n",
    "            submodule2_2.py\n",
    "            submodule2_3.py\n",
    "```"
   ]
  },
  {
   "cell_type": "markdown",
   "metadata": {},
   "source": [
    "* The top level directory will be the root of the (future) repository, i.e., **package_name.git**. The subdirectory, also called **package_name** is the actual Python module.\n",
    "* The file **<font color=\"red\">\\_\\_init\\_\\_.py</font>** is an empty file.\n",
    "* The config file **<font color=\"red\">setup.py</font>** should contain a single call to **<font color=\"red\">setuptools.setup()</font>**, like:"
   ]
  },
  {
   "cell_type": "raw",
   "metadata": {},
   "source": [
    "import setuptools\n",
    "\n",
    "with open(\"README.md\", \"r\") as fh:\n",
    "    long_description = fh.read()\n",
    "\n",
    "setuptools.setup(\n",
    "    name=\"package_name\",\n",
    "    version=\"0.1\",\n",
    "    author=\"first_name last_name\",\n",
    "    author_email=\"your_user_id@example.com\",\n",
    "    description=\"A small example package\",\n",
    "    long_description=long_description,\n",
    "    long_description_content_type=\"text/markdown\",\n",
    "    url=\"https://github.com/github_user_id/package_name\",\n",
    "    packages=setuptools.find_packages(),\n",
    "    classifiers=[\n",
    "        \"Programming Language :: Python :: 3\",\n",
    "        \"License :: OSI Approved :: MIT License\",\n",
    "        \"Operating System :: OS Independent\",\n",
    "    ],\n",
    ")"
   ]
  },
  {
   "cell_type": "markdown",
   "metadata": {},
   "source": [
    "#### Creating the <font color='red'> README.md </font> File"
   ]
  },
  {
   "cell_type": "raw",
   "metadata": {},
   "source": [
    "# Welcome to package_name\n",
    "\n",
    "This is a simple example package. You can use\n",
    "[Github-flavored Markdown](https://guides.github.com/features/mastering-markdown/)\n",
    "to write your content."
   ]
  },
  {
   "cell_type": "markdown",
   "metadata": {},
   "source": [
    "#### Creating the <font color='red'> LICENCE </font> File"
   ]
  },
  {
   "cell_type": "raw",
   "metadata": {},
   "source": [
    "Copyright (c) 2019 The Python Packaging Authority\n",
    "\n",
    "Permission is hereby granted, free of charge, to any person obtaining a copy\n",
    "of this software and associated documentation files (the \"Software\"), to deal\n",
    "in the Software without restriction, including without limitation the rights\n",
    "to use, copy, modify, merge, publish, distribute, sublicense, and/or sell\n",
    "copies of the Software, and to permit persons to whom the Software is\n",
    "furnished to do so, subject to the following conditions:\n",
    "\n",
    "The above copyright notice and this permission notice shall be included in all\n",
    "copies or substantial portions of the Software.\n",
    "\n",
    "THE SOFTWARE IS PROVIDED \"AS IS\", WITHOUT WARRANTY OF ANY KIND, EXPRESS OR\n",
    "IMPLIED, INCLUDING BUT NOT LIMITED TO THE WARRANTIES OF MERCHANTABILITY,\n",
    "FITNESS FOR A PARTICULAR PURPOSE AND NONINFRINGEMENT. IN NO EVENT SHALL THE\n",
    "AUTHORS OR COPYRIGHT HOLDERS BE LIABLE FOR ANY CLAIM, DAMAGES OR OTHER\n",
    "LIABILITY, WHETHER IN AN ACTION OF CONTRACT, TORT OR OTHERWISE, ARISING FROM,\n",
    "OUT OF OR IN CONNECTION WITH THE SOFTWARE OR THE USE OR OTHER DEALINGS IN THE\n",
    "SOFTWARE."
   ]
  },
  {
   "cell_type": "markdown",
   "metadata": {},
   "source": [
    "## Locally Install the Package"
   ]
  },
  {
   "cell_type": "markdown",
   "metadata": {},
   "source": [
    "You can install the package locally (for use on our system), with:\n",
    "\n",
    "    $ pip install ."
   ]
  },
  {
   "cell_type": "markdown",
   "metadata": {},
   "source": [
    "You can also install the package with a symlink, so that changes to the source files will be immediately available to other users of the package on our system:\n",
    "\n",
    "    $ pip install -e ."
   ]
  },
  {
   "cell_type": "markdown",
   "metadata": {},
   "source": [
    "Anywhere else in your system using the same Python, we can do this now:\n",
    "\n",
    "    import package_name\n",
    "    package_name.submodule2_3.calc()"
   ]
  },
  {
   "cell_type": "markdown",
   "metadata": {},
   "source": [
    "## Exercise\n",
    "* Use the content of the temp_conversion/ directory to create a package name temp_conversion.\n",
    "* Install the package in your local system.\n",
    "* Test the package in your local Python environment"
   ]
  },
  {
   "cell_type": "markdown",
   "metadata": {},
   "source": [
    "## Publishing Your Package On PyPI"
   ]
  },
  {
   "cell_type": "markdown",
   "metadata": {},
   "source": [
    "* The setup.py script is also our main entrypoint to register the package name on PyPI and upload source distributions.\n",
    "* To “register” the package (this will reserve the name, upload package metadata, and create the pypi.python.org webpage):\n",
    "\n",
    "             $ python setup.py register\n",
    "\n"
   ]
  },
  {
   "cell_type": "code",
   "execution_count": null,
   "metadata": {},
   "outputs": [],
   "source": []
  },
  {
   "cell_type": "markdown",
   "metadata": {},
   "source": [
    "* If you haven’t published things on PyPI before, you’ll need to create an account.\n",
    "* Your package will appear in:\n",
    "   \n",
    "       http://pypi.python.org/pypi/package_name/0.1"
   ]
  },
  {
   "cell_type": "markdown",
   "metadata": {},
   "source": [
    "## Installing the Package"
   ]
  },
  {
   "cell_type": "markdown",
   "metadata": {},
   "source": [
    "Other people of this package can install the package with pip:\n",
    "\n",
    "       $ pip install package_name"
   ]
  },
  {
   "cell_type": "markdown",
   "metadata": {},
   "source": [
    "## Search a Package"
   ]
  },
  {
   "cell_type": "code",
   "execution_count": null,
   "metadata": {
    "slideshow": {
     "slide_type": "slide"
    }
   },
   "outputs": [],
   "source": [
    "from package_name.file import File"
   ]
  },
  {
   "cell_type": "code",
   "execution_count": null,
   "metadata": {
    "slideshow": {
     "slide_type": "fragment"
    }
   },
   "outputs": [],
   "source": [
    "# in your __init__.py\n",
    "from file import File\n",
    "\n",
    "# now import File from package\n",
    "from package import File"
   ]
  },
  {
   "cell_type": "markdown",
   "metadata": {
    "slideshow": {
     "slide_type": "slide"
    }
   },
   "source": [
    "How does Python find packages and modules?\n",
    "\n",
    "Python imports work by searching the directories listed in sys.path. "
   ]
  },
  {
   "cell_type": "code",
   "execution_count": null,
   "metadata": {
    "slideshow": {
     "slide_type": "fragment"
    }
   },
   "outputs": [],
   "source": [
    "import sys\n",
    "print ('\\n'.join(sys.path))"
   ]
  },
  {
   "cell_type": "code",
   "execution_count": null,
   "metadata": {
    "slideshow": {
     "slide_type": "slide"
    }
   },
   "outputs": [],
   "source": [
    "# where the module is in your filesystem\n",
    "import numpy\n",
    "print (numpy.__file__)"
   ]
  },
  {
   "cell_type": "code",
   "execution_count": null,
   "metadata": {
    "slideshow": {
     "slide_type": "slide"
    }
   },
   "outputs": [],
   "source": [
    "# explore entire import system through the imp module.\n",
    "import imp\n",
    "imp.find_module('numpy')"
   ]
  },
  {
   "cell_type": "code",
   "execution_count": null,
   "metadata": {
    "slideshow": {
     "slide_type": "slide"
    }
   },
   "outputs": [],
   "source": [
    "# Getting file path of imported module\n",
    "import os.path\n",
    "import area\n",
    "\n",
    "print (os.path.abspath(area.__file__))"
   ]
  },
  {
   "cell_type": "code",
   "execution_count": null,
   "metadata": {},
   "outputs": [],
   "source": []
  }
 ],
 "metadata": {
  "anaconda-cloud": {},
  "celltoolbar": "Slideshow",
  "kernelspec": {
   "display_name": "Python 3",
   "language": "python",
   "name": "python3"
  },
  "language_info": {
   "codemirror_mode": {
    "name": "ipython",
    "version": 3
   },
   "file_extension": ".py",
   "mimetype": "text/x-python",
   "name": "python",
   "nbconvert_exporter": "python",
   "pygments_lexer": "ipython3",
   "version": "3.7.1"
  }
 },
 "nbformat": 4,
 "nbformat_minor": 1
}
